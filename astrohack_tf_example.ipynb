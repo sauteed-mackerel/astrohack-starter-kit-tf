{
 "cells": [
  {
   "cell_type": "markdown",
   "metadata": {},
   "source": [
    "# AstroHack - Tensorflow + Keras Example\n",
    "\n",
    "This tutorial will demonstrate how to predict galaxy M/L ratios using a simple convolutional neural network with the Keras API of TensorFlow 2.0.\n",
    "\n",
    "1. [Prepare data](#1.-Prepare-data)    \n",
    "    1.1. [Load labels and metadata](#1.1.-Load-labels-and-metadata)    \n",
    "    1.2. [Load images into np.arrays](#1.2.-Load-images-into-numpy-arrays)    \n",
    "    1.3. [Split validation set from training set](#1.3.-Split-validation-set-from-training-set)    \n",
    "2. [Build a simple convolutional neural network](#2.-Build-a-simple-convolutional-neural-network)\n",
    "3. [Generate predictions](#3.-Generate-predictions)"
   ]
  },
  {
   "cell_type": "markdown",
   "metadata": {},
   "source": [
    "Before running this notebook, please make sure:\n",
    "1. Dependent libraries in the `requirements.txt` have been installed;\n",
    "2. AstroHack data files have been downloaded and unzipped in the `./data` directory."
   ]
  },
  {
   "cell_type": "markdown",
   "metadata": {},
   "source": [
    "## 1. Prepare data\n",
    "\n",
    "We need to load and parse the data files before we can run any machine learning model."
   ]
  },
  {
   "cell_type": "markdown",
   "metadata": {},
   "source": [
    "### 1.1. Load labels and metadata\n",
    "\n",
    "Pandas is handy for parsing tabular data and we will use it to load the metadata files."
   ]
  },
  {
   "cell_type": "code",
   "execution_count": 1,
   "metadata": {},
   "outputs": [
    {
     "name": "stdout",
     "output_type": "stream",
     "text": [
      "Training metadata shape: (51538, 6)\n",
      "Evaluation metadata shape: (22089, 5)\n"
     ]
    },
    {
     "data": {
      "text/html": [
       "<div>\n",
       "<style scoped>\n",
       "    .dataframe tbody tr th:only-of-type {\n",
       "        vertical-align: middle;\n",
       "    }\n",
       "\n",
       "    .dataframe tbody tr th {\n",
       "        vertical-align: top;\n",
       "    }\n",
       "\n",
       "    .dataframe thead th {\n",
       "        text-align: right;\n",
       "    }\n",
       "</style>\n",
       "<table border=\"1\" class=\"dataframe\">\n",
       "  <thead>\n",
       "    <tr style=\"text-align: right;\">\n",
       "      <th></th>\n",
       "      <th>SDSS_ID</th>\n",
       "      <th>M/L</th>\n",
       "      <th>L_g</th>\n",
       "      <th>distance_Mpc</th>\n",
       "      <th>galsize_kpc</th>\n",
       "      <th>image_name</th>\n",
       "    </tr>\n",
       "  </thead>\n",
       "  <tbody>\n",
       "    <tr>\n",
       "      <th>0</th>\n",
       "      <td>1237668271371976941</td>\n",
       "      <td>3.022229</td>\n",
       "      <td>1.205884e+10</td>\n",
       "      <td>189.000006</td>\n",
       "      <td>28.85280</td>\n",
       "      <td>1237668271371976941.png</td>\n",
       "    </tr>\n",
       "    <tr>\n",
       "      <th>1</th>\n",
       "      <td>1237661873478828168</td>\n",
       "      <td>2.057684</td>\n",
       "      <td>2.953450e+10</td>\n",
       "      <td>201.000002</td>\n",
       "      <td>36.89115</td>\n",
       "      <td>1237661873478828168.png</td>\n",
       "    </tr>\n",
       "    <tr>\n",
       "      <th>2</th>\n",
       "      <td>1237651495756234805</td>\n",
       "      <td>5.380972</td>\n",
       "      <td>1.078647e+10</td>\n",
       "      <td>180.428576</td>\n",
       "      <td>33.11551</td>\n",
       "      <td>1237651495756234805.png</td>\n",
       "    </tr>\n",
       "  </tbody>\n",
       "</table>\n",
       "</div>"
      ],
      "text/plain": [
       "               SDSS_ID       M/L           L_g  distance_Mpc  galsize_kpc  \\\n",
       "0  1237668271371976941  3.022229  1.205884e+10    189.000006     28.85280   \n",
       "1  1237661873478828168  2.057684  2.953450e+10    201.000002     36.89115   \n",
       "2  1237651495756234805  5.380972  1.078647e+10    180.428576     33.11551   \n",
       "\n",
       "                image_name  \n",
       "0  1237668271371976941.png  \n",
       "1  1237661873478828168.png  \n",
       "2  1237651495756234805.png  "
      ]
     },
     "execution_count": 1,
     "metadata": {},
     "output_type": "execute_result"
    }
   ],
   "source": [
    "import pandas as pd\n",
    "import os\n",
    "\n",
    "# Read metadata TSV files\n",
    "train_labels = pd.read_csv('./data/train_metadata.tsv', sep='\\t')\n",
    "eval_labels = pd.read_csv('./data/eval_metadata.tsv', sep='\\t')\n",
    "\n",
    "# Print the shape\n",
    "print('Training metadata shape: {}'.format(train_labels.shape))\n",
    "print('Evaluation metadata shape: {}'.format(eval_labels.shape))\n",
    "\n",
    "# Show head of training metadata\n",
    "train_labels.head(3)"
   ]
  },
  {
   "cell_type": "markdown",
   "metadata": {},
   "source": [
    "Shown above are the top 3 rows in the training metadata files with columns:\n",
    "\n",
    "- `SDSS_ID`: the unique identifier for each galaxy used by SDSS database.\n",
    "- `M/L`: the ground truth Mass-to-Luminosity ratio.\n",
    "- `L_g`: luminosity of the galaxy in g-band wavelength. *Not used in this tutorial.*\n",
    "- `distance_Mpc`: the distance between the subject galaxy and Earth in megaparsec. *Not used in this tutorial.*\n",
    "- `galsize_kpc`: the size of the subject galaxy in kiloparsec. *Not used in this tutorial.*\n",
    "- `image_name`: the filename of the corresponding image file.\n",
    "\n",
    "In this tutorial, we will use the image as the only feature to predict the M/L ratio."
   ]
  },
  {
   "cell_type": "markdown",
   "metadata": {},
   "source": [
    "### 1.2. Load images into numpy arrays\n",
    "\n",
    "In this tutorial, we will only use the 69x69pix galatic images."
   ]
  },
  {
   "cell_type": "code",
   "execution_count": 2,
   "metadata": {},
   "outputs": [
    {
     "name": "stdout",
     "output_type": "stream",
     "text": [
      "Found 51538 training images\n",
      "Found 22089 evaluation images\n"
     ]
    }
   ],
   "source": [
    "# Locate training and evaluation images\n",
    "train_img_folder = './data/train_images_69pix'\n",
    "eval_img_folder = './data/evaluation_images_69pix'\n",
    "\n",
    "print('Found {} training images'.format(len(os.listdir(train_img_folder))))\n",
    "print('Found {} evaluation images'.format(len(os.listdir(eval_img_folder))))"
   ]
  },
  {
   "cell_type": "code",
   "execution_count": 3,
   "metadata": {},
   "outputs": [
    {
     "name": "stdout",
     "output_type": "stream",
     "text": [
      "Training image array shape: (51538, 69, 69, 1)\n",
      "Evaluation image array shape: (22089, 69, 69, 1)\n"
     ]
    }
   ],
   "source": [
    "import numpy as np\n",
    "from PIL import Image\n",
    "\n",
    "# Load train and eval images into numpy arrays\n",
    "train_image_paths = [train_img_folder + '/' + img_name for img_name in train_labels['image_name']]\n",
    "eval_image_paths = [eval_img_folder + '/' + img_name for img_name in eval_labels['image_name']]\n",
    "\n",
    "train_images = np.array([np.array(Image.open(img_path)) for img_path in train_image_paths])\n",
    "eval_images = np.array([np.array(Image.open(img_path)) for img_path in eval_image_paths])\n",
    "\n",
    "# Expand the channel dimension\n",
    "train_images = np.expand_dims(train_images, axis=3)\n",
    "eval_images = np.expand_dims(eval_images, axis=3)\n",
    "\n",
    "# Show shape\n",
    "print('Training image array shape: {}'.format(train_images.shape))\n",
    "print('Evaluation image array shape: {}'.format(eval_images.shape))"
   ]
  },
  {
   "cell_type": "markdown",
   "metadata": {},
   "source": [
    "Each image is 69x69 pix large and there is only one channel (black-and-white), therefore each image can be represented by a tensor with size of (69, 69, 1)."
   ]
  },
  {
   "cell_type": "markdown",
   "metadata": {},
   "source": [
    "### 1.3. Split validation set from training set"
   ]
  },
  {
   "cell_type": "markdown",
   "metadata": {},
   "source": [
    "Theoretically we can use the entire training dataset to train our machine learning model, but practically we need to reserve a small portion of it to validate our model and check the model performance. This reserved portion is often referred as the *validation set*. \n",
    "\n",
    "In this tutorial, we will use 10% of the training data as the validation set, and use the remaining 90% to actually train the model."
   ]
  },
  {
   "cell_type": "code",
   "execution_count": 4,
   "metadata": {},
   "outputs": [],
   "source": [
    "validation_split = 0.1  # Use 10% of training data for validation"
   ]
  },
  {
   "cell_type": "code",
   "execution_count": 5,
   "metadata": {},
   "outputs": [
    {
     "name": "stdout",
     "output_type": "stream",
     "text": [
      "Training metadata shape: (46384, 6)\n",
      "Validation metadata shape: (5154, 6)\n"
     ]
    }
   ],
   "source": [
    "np.random.seed(42)  # seed randomness\n",
    "\n",
    "# Move 10% of data into validation set\n",
    "val_index = train_labels.sample(frac=validation_split).index\n",
    "val_labels = train_labels.loc[val_index, :]\n",
    "train_labels = train_labels.loc[~train_labels.index.isin(val_index), :]\n",
    "\n",
    "# Print the shape\n",
    "print('Training metadata shape: {}'.format(train_labels.shape))\n",
    "print('Validation metadata shape: {}'.format(val_labels.shape))"
   ]
  },
  {
   "cell_type": "markdown",
   "metadata": {},
   "source": [
    "Now we have splitted the training and validation sets, we simply need to lookup the corresponding images and M/L values as well."
   ]
  },
  {
   "cell_type": "code",
   "execution_count": 6,
   "metadata": {},
   "outputs": [],
   "source": [
    "X_train = train_images[train_labels.index.values, :, :]\n",
    "X_val = train_images[val_index.values, :, :]\n",
    "Y_train = train_labels['M/L'].values\n",
    "Y_val = val_labels['M/L'].values"
   ]
  },
  {
   "cell_type": "markdown",
   "metadata": {},
   "source": [
    "## 2. Build a simple convolutional neural network\n",
    "\n",
    "[Convolutional Neural Network (CNN)](https://en.wikipedia.org/wiki/Convolutional_neural_network) is a family of deep learning models that work well on image data. \n",
    "\n",
    "In the below code segments, we will build a simple CNN sturtcure, train it and use it to predict the M/L ratio from galaxy images."
   ]
  },
  {
   "cell_type": "code",
   "execution_count": 7,
   "metadata": {},
   "outputs": [
    {
     "name": "stdout",
     "output_type": "stream",
     "text": [
      "Model: \"sequential\"\n",
      "_________________________________________________________________\n",
      "Layer (type)                 Output Shape              Param #   \n",
      "=================================================================\n",
      "batch_normalization (BatchNo (None, 69, 69, 1)         4         \n",
      "_________________________________________________________________\n",
      "conv2d (Conv2D)              (None, 22, 22, 32)        832       \n",
      "_________________________________________________________________\n",
      "max_pooling2d (MaxPooling2D) (None, 11, 11, 32)        0         \n",
      "_________________________________________________________________\n",
      "dropout (Dropout)            (None, 11, 11, 32)        0         \n",
      "_________________________________________________________________\n",
      "conv2d_1 (Conv2D)            (None, 9, 9, 64)          18496     \n",
      "_________________________________________________________________\n",
      "global_max_pooling2d (Global (None, 64)                0         \n",
      "_________________________________________________________________\n",
      "dropout_1 (Dropout)          (None, 64)                0         \n",
      "_________________________________________________________________\n",
      "dense (Dense)                (None, 128)               8320      \n",
      "_________________________________________________________________\n",
      "dense_1 (Dense)              (None, 1)                 129       \n",
      "=================================================================\n",
      "Total params: 27,781\n",
      "Trainable params: 27,779\n",
      "Non-trainable params: 2\n",
      "_________________________________________________________________\n"
     ]
    }
   ],
   "source": [
    "import tensorflow as tf\n",
    "from tensorflow.keras import layers\n",
    "\n",
    "# Build a simple sequential CNN model\n",
    "model = tf.keras.Sequential()\n",
    "\n",
    "# Add a batch normalization layer\n",
    "model.add(layers.BatchNormalization(input_shape=(69, 69, 1)))\n",
    "\n",
    "# CNN layer 1\n",
    "model.add(layers.Conv2D(32, kernel_size=5, strides=(3, 3), activation='relu'))\n",
    "model.add(layers.MaxPooling2D((2, 2)))\n",
    "model.add(layers.Dropout(0.2))  # Dropout is a common technique to prevent overfitting\n",
    "\n",
    "# CNN layer 2\n",
    "model.add(layers.Conv2D(64, kernel_size=3, strides=(1, 1), activation='relu'))\n",
    "model.add(layers.GlobalMaxPooling2D())\n",
    "model.add(layers.Dropout(0.2))\n",
    "\n",
    "# Dense layers to collect the convolutional features and make a single output\n",
    "model.add(layers.Dense(128, activation='relu'))\n",
    "model.add(layers.Dense(1, activation='relu'))\n",
    "\n",
    "# Use MSE as the loss function\n",
    "model.compile(optimizer='adam', loss='mean_squared_error')\n",
    "model.summary()"
   ]
  },
  {
   "cell_type": "code",
   "execution_count": 8,
   "metadata": {
    "scrolled": false
   },
   "outputs": [
    {
     "name": "stdout",
     "output_type": "stream",
     "text": [
      "Train on 46384 samples, validate on 5154 samples\n",
      "Epoch 1/25\n",
      "46384/46384 [==============================] - 5s 99us/sample - loss: 1.4309 - val_loss: 1.1764\n",
      "Epoch 2/25\n",
      "46384/46384 [==============================] - 3s 55us/sample - loss: 1.2318 - val_loss: 1.1998\n",
      "Epoch 3/25\n",
      "46384/46384 [==============================] - 2s 53us/sample - loss: 1.1790 - val_loss: 1.0919\n",
      "Epoch 4/25\n",
      "46384/46384 [==============================] - 3s 54us/sample - loss: 1.1494 - val_loss: 1.1316\n",
      "Epoch 5/25\n",
      "46384/46384 [==============================] - 3s 54us/sample - loss: 1.1215 - val_loss: 1.0674\n",
      "Epoch 6/25\n",
      "46384/46384 [==============================] - 2s 52us/sample - loss: 1.1053 - val_loss: 1.0380\n",
      "Epoch 7/25\n",
      "46384/46384 [==============================] - 2s 49us/sample - loss: 1.0889 - val_loss: 1.0046\n",
      "Epoch 8/25\n",
      "46384/46384 [==============================] - 2s 50us/sample - loss: 1.0853 - val_loss: 1.0247\n",
      "Epoch 9/25\n",
      "46384/46384 [==============================] - 2s 51us/sample - loss: 1.0673 - val_loss: 0.9920\n",
      "Epoch 10/25\n",
      "46384/46384 [==============================] - 2s 52us/sample - loss: 1.0520 - val_loss: 0.9683\n",
      "Epoch 11/25\n",
      "46384/46384 [==============================] - 2s 50us/sample - loss: 1.0479 - val_loss: 0.9934\n",
      "Epoch 12/25\n",
      "46384/46384 [==============================] - 2s 50us/sample - loss: 1.0369 - val_loss: 0.9630\n",
      "Epoch 13/25\n",
      "46384/46384 [==============================] - 2s 52us/sample - loss: 1.0328 - val_loss: 0.9830\n",
      "Epoch 14/25\n",
      "46384/46384 [==============================] - 3s 54us/sample - loss: 1.0243 - val_loss: 0.9701\n",
      "Epoch 15/25\n",
      "46384/46384 [==============================] - 2s 49us/sample - loss: 1.0090 - val_loss: 0.9611\n",
      "Epoch 16/25\n",
      "46384/46384 [==============================] - 3s 55us/sample - loss: 1.0073 - val_loss: 0.9506\n",
      "Epoch 17/25\n",
      "46384/46384 [==============================] - 2s 50us/sample - loss: 1.0111 - val_loss: 0.9849\n",
      "Epoch 18/25\n",
      "46384/46384 [==============================] - 2s 50us/sample - loss: 0.9905 - val_loss: 0.9397\n",
      "Epoch 19/25\n",
      "46384/46384 [==============================] - 2s 53us/sample - loss: 0.9918 - val_loss: 0.9479\n",
      "Epoch 20/25\n",
      "46384/46384 [==============================] - 3s 54us/sample - loss: 0.9811 - val_loss: 0.9451\n",
      "Epoch 21/25\n",
      "46384/46384 [==============================] - 2s 51us/sample - loss: 0.9781 - val_loss: 0.9290\n",
      "Epoch 22/25\n",
      "46384/46384 [==============================] - 2s 54us/sample - loss: 0.9757 - val_loss: 0.9330\n",
      "Epoch 23/25\n",
      "46384/46384 [==============================] - 2s 51us/sample - loss: 0.9672 - val_loss: 0.9577\n",
      "Epoch 24/25\n",
      "46384/46384 [==============================] - 2s 50us/sample - loss: 0.9606 - val_loss: 0.9285\n",
      "Epoch 25/25\n",
      "46384/46384 [==============================] - 2s 50us/sample - loss: 0.9617 - val_loss: 0.9340\n"
     ]
    }
   ],
   "source": [
    "# Train model\n",
    "history = model.fit(X_train, Y_train, validation_data=(X_val, Y_val),\n",
    "                    epochs=25, batch_size=64)"
   ]
  },
  {
   "cell_type": "code",
   "execution_count": 9,
   "metadata": {},
   "outputs": [
    {
     "data": {
      "image/png": "[encoded data removed]",
      "text/plain": [
       "<Figure size 432x288 with 1 Axes>"
      ]
     },
     "metadata": {
      "needs_background": "light"
     },
     "output_type": "display_data"
    }
   ],
   "source": [
    "import matplotlib.pyplot as plt\n",
    "\n",
    "# Visualize the training curve\n",
    "history_df = pd.DataFrame(history.history)\n",
    "plt.plot(history_df['loss'], label='training_loss')\n",
    "plt.plot(history_df['val_loss'], label='validation_loss')\n",
    "plt.xlabel('epoch')\n",
    "plt.ylabel('MSE')\n",
    "_ = plt.legend()"
   ]
  },
  {
   "cell_type": "markdown",
   "metadata": {},
   "source": [
    "As shown in the training plot, the loss is gradually reduced with more iterations, which indicates the model is learning and making progress."
   ]
  },
  {
   "cell_type": "markdown",
   "metadata": {},
   "source": [
    "## 3. Generate predictions\n",
    "\n",
    "Now our CNN model is trained, we can use it to predict on images in the evaluation set."
   ]
  },
  {
   "cell_type": "code",
   "execution_count": 10,
   "metadata": {},
   "outputs": [
    {
     "data": {
      "text/html": [
       "<div>\n",
       "<style scoped>\n",
       "    .dataframe tbody tr th:only-of-type {\n",
       "        vertical-align: middle;\n",
       "    }\n",
       "\n",
       "    .dataframe tbody tr th {\n",
       "        vertical-align: top;\n",
       "    }\n",
       "\n",
       "    .dataframe thead th {\n",
       "        text-align: right;\n",
       "    }\n",
       "</style>\n",
       "<table border=\"1\" class=\"dataframe\">\n",
       "  <thead>\n",
       "    <tr style=\"text-align: right;\">\n",
       "      <th></th>\n",
       "      <th>SDSS_ID</th>\n",
       "      <th>pred_ml</th>\n",
       "    </tr>\n",
       "  </thead>\n",
       "  <tbody>\n",
       "    <tr>\n",
       "      <th>0</th>\n",
       "      <td>1237657873256349729</td>\n",
       "      <td>2.998532</td>\n",
       "    </tr>\n",
       "    <tr>\n",
       "      <th>1</th>\n",
       "      <td>1237671260128411724</td>\n",
       "      <td>3.010330</td>\n",
       "    </tr>\n",
       "    <tr>\n",
       "      <th>2</th>\n",
       "      <td>1237658205036740751</td>\n",
       "      <td>3.027325</td>\n",
       "    </tr>\n",
       "  </tbody>\n",
       "</table>\n",
       "</div>"
      ],
      "text/plain": [
       "               SDSS_ID   pred_ml\n",
       "0  1237657873256349729  2.998532\n",
       "1  1237671260128411724  3.010330\n",
       "2  1237658205036740751  3.027325"
      ]
     },
     "execution_count": 10,
     "metadata": {},
     "output_type": "execute_result"
    }
   ],
   "source": [
    "# Generate predictions on the evaluation set\n",
    "predicted_ml = model.predict(eval_images)\n",
    "\n",
    "# Compile predictions into the submission format\n",
    "eval_labels.loc[:, 'pred_ml'] = predicted_ml\n",
    "eval_submission = eval_labels.loc[:, ['SDSS_ID', 'pred_ml']]\n",
    "eval_submission.head(3)"
   ]
  },
  {
   "cell_type": "code",
   "execution_count": 11,
   "metadata": {},
   "outputs": [],
   "source": [
    "# Save the submission file\n",
    "eval_submission.to_csv('./eval_submission.tsv', sep='\\t', index=False)"
   ]
  },
  {
   "cell_type": "markdown",
   "metadata": {},
   "source": [
    "Now you can submit this file for evaluation. "
   ]
  }
 ],
 "metadata": {
  "kernelspec": {
   "display_name": "astrohack_py36_tf",
   "language": "python",
   "name": "astrohack_py36_tf"
  },
  "language_info": {
   "codemirror_mode": {
    "name": "ipython",
    "version": 3
   },
   "file_extension": ".py",
   "mimetype": "text/x-python",
   "name": "python",
   "nbconvert_exporter": "python",
   "pygments_lexer": "ipython3",
   "version": "3.6.8"
  }
 },
 "nbformat": 4,
 "nbformat_minor": 4
}
